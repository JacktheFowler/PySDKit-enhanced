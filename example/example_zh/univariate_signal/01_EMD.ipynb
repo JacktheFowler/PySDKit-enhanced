{
 "cells": [
  {
   "metadata": {},
   "cell_type": "markdown",
   "source": [
    "# 经验模态分解算法\n",
    "\n"
   ],
   "id": "e858dbf71a7efb97"
  },
  {
   "cell_type": "code",
   "id": "initial_id",
   "metadata": {
    "collapsed": true,
    "ExecuteTime": {
     "end_time": "2025-07-18T02:38:52.179554Z",
     "start_time": "2025-07-18T02:38:51.276728Z"
    }
   },
   "source": [
    "from pysdkit import EMD\n",
    "from pysdkit.data import test_univariate_signal"
   ],
   "outputs": [],
   "execution_count": 1
  },
  {
   "metadata": {},
   "cell_type": "markdown",
   "source": "",
   "id": "d2d6f88d884bde18"
  }
 ],
 "metadata": {
  "kernelspec": {
   "display_name": "Python 3",
   "language": "python",
   "name": "python3"
  },
  "language_info": {
   "codemirror_mode": {
    "name": "ipython",
    "version": 2
   },
   "file_extension": ".py",
   "mimetype": "text/x-python",
   "name": "python",
   "nbconvert_exporter": "python",
   "pygments_lexer": "ipython2",
   "version": "2.7.6"
  }
 },
 "nbformat": 4,
 "nbformat_minor": 5
}
