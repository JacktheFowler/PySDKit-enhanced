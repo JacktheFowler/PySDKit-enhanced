{
 "cells": [
  {
   "metadata": {},
   "cell_type": "markdown",
   "source": "# 测试基于动态时间扭曲的K近邻聚类算法",
   "id": "6affb6ad21dd5ef5"
  },
  {
   "cell_type": "code",
   "id": "initial_id",
   "metadata": {
    "collapsed": true,
    "ExecuteTime": {
     "end_time": "2025-07-21T03:41:00.020856Z",
     "start_time": "2025-07-21T03:40:58.516458Z"
    }
   },
   "source": [
    "# 导入K近邻算法模块\n",
    "from pysdkit.tsa import KnnDtw"
   ],
   "outputs": [],
   "execution_count": 1
  },
  {
   "metadata": {},
   "cell_type": "code",
   "outputs": [],
   "execution_count": null,
   "source": "knn = KnnDtw()\n",
   "id": "3de14eb5196e4c65"
  }
 ],
 "metadata": {
  "kernelspec": {
   "display_name": "Python 3",
   "language": "python",
   "name": "python3"
  },
  "language_info": {
   "codemirror_mode": {
    "name": "ipython",
    "version": 2
   },
   "file_extension": ".py",
   "mimetype": "text/x-python",
   "name": "python",
   "nbconvert_exporter": "python",
   "pygments_lexer": "ipython2",
   "version": "2.7.6"
  }
 },
 "nbformat": 4,
 "nbformat_minor": 5
}
