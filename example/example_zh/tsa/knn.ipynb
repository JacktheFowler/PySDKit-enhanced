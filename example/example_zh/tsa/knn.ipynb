{
 "cells": [
  {
   "metadata": {},
   "cell_type": "markdown",
   "source": "# 基于动态时间扭曲的K近邻聚类算法的使用样例",
   "id": "6affb6ad21dd5ef5"
  },
  {
   "cell_type": "code",
   "id": "initial_id",
   "metadata": {
    "collapsed": true,
    "ExecuteTime": {
     "end_time": "2025-07-21T03:47:15.248016Z",
     "start_time": "2025-07-21T03:47:15.242018Z"
    }
   },
   "source": [
    "# 导入K近邻算法模块\n",
    "from pysdkit.tsa import KnnDtw"
   ],
   "outputs": [],
   "execution_count": 2
  },
  {
   "metadata": {},
   "cell_type": "code",
   "outputs": [],
   "execution_count": null,
   "source": [
    "# 生成用于测试K近邻算法的数据\n",
    "def test_knn_data(num_classes: int = 5, length: int = 256, random_state: int = 42):\n",
    "    \"\"\"\n",
    "    生成用于测试K近邻算法的函数\n",
    "\n",
    "    :param num_classes: 用于测试的类别数目\n",
    "    :param length: 生成测试数据的长度\n",
    "    :param random_state: 测试使用的随机种子\n",
    "    :return: 生成的测试时间序列数据样本和标签\n",
    "    \"\"\"\n",
    "\n",
    "\n",
    "\n"
   ],
   "id": "b5eb920585cbbe8c"
  },
  {
   "metadata": {},
   "cell_type": "code",
   "outputs": [],
   "execution_count": null,
   "source": "knn = KnnDtw()\n",
   "id": "3de14eb5196e4c65"
  }
 ],
 "metadata": {
  "kernelspec": {
   "display_name": "Python 3",
   "language": "python",
   "name": "python3"
  },
  "language_info": {
   "codemirror_mode": {
    "name": "ipython",
    "version": 2
   },
   "file_extension": ".py",
   "mimetype": "text/x-python",
   "name": "python",
   "nbconvert_exporter": "python",
   "pygments_lexer": "ipython2",
   "version": "2.7.6"
  }
 },
 "nbformat": 4,
 "nbformat_minor": 5
}
