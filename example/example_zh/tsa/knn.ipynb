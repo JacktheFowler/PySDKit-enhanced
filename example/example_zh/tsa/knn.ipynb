{
 "cells": [
  {
   "metadata": {},
   "cell_type": "markdown",
   "source": "# 基于动态时间扭曲的K近邻聚类算法的使用样例",
   "id": "6affb6ad21dd5ef5"
  },
  {
   "cell_type": "code",
   "id": "initial_id",
   "metadata": {
    "collapsed": true,
    "ExecuteTime": {
     "end_time": "2025-07-21T13:19:49.495498Z",
     "start_time": "2025-07-21T13:19:49.479497Z"
    }
   },
   "source": [
    "import numpy as np\n",
    "\n",
    "# 导入K近邻算法模块\n",
    "from pysdkit.models import KnnDtw"
   ],
   "outputs": [],
   "execution_count": 5
  },
  {
   "metadata": {
    "ExecuteTime": {
     "end_time": "2025-07-21T13:19:49.924899Z",
     "start_time": "2025-07-21T13:19:49.908414Z"
    }
   },
   "cell_type": "code",
   "source": [
    "# 生成用于测试K近邻算法的数据\n",
    "def test_knn_data(n_classes: int = 5, number: int = 10, length: int = 256, random_state: int = 42):\n",
    "    \"\"\"\n",
    "    生成用于测试K近邻算法的函数\n",
    "\n",
    "    :param n_classes: 用于测试的类别数目\n",
    "    :param length: 生成测试数据的长度\n",
    "    :param random_state: 测试使用的随机种子\n",
    "    :return: 生成的测试时间序列数据样本和标签\n",
    "    \"\"\"\n",
    "    rng = np.random.RandomState(random_state)\n",
    "    samples, labels = [], []\n",
    "\n",
    "    for c in range(n_classes):\n",
    "        # 生成该类别的均值和方差\n",
    "        mean = rng.uniform(low=-10, high=10)\n",
    "        for i in range(number):\n",
    "            samples.append(rng.rand(length) * mean)\n",
    "            labels.append(c)\n",
    "\n",
    "    return np.array(samples), np.array(labels)\n",
    "\n",
    "samples, labels = test_knn_data(n_classes=5, number=10, length=256, random_state=42)"
   ],
   "id": "b5eb920585cbbe8c",
   "outputs": [],
   "execution_count": 6
  },
  {
   "metadata": {},
   "cell_type": "code",
   "outputs": [],
   "execution_count": null,
   "source": [
    "knn = KnnDtw()\n",
    "knn.fit(samples, labels)\n",
    "knn.predict()"
   ],
   "id": "3de14eb5196e4c65"
  },
  {
   "metadata": {
    "ExecuteTime": {
     "end_time": "2025-07-21T12:46:39.884475Z",
     "start_time": "2025-07-21T12:46:39.831930Z"
    }
   },
   "cell_type": "code",
   "source": [
    "# 导入用于降维的PCA算法\n",
    "from pysdkit.models import PCA"
   ],
   "id": "fc4f492168dccbe8",
   "outputs": [],
   "execution_count": 3
  },
  {
   "metadata": {
    "ExecuteTime": {
     "end_time": "2025-07-21T12:46:40.085211Z",
     "start_time": "2025-07-21T12:46:40.069209Z"
    }
   },
   "cell_type": "code",
   "source": "",
   "id": "3dad0000f7d5a810",
   "outputs": [],
   "execution_count": null
  },
  {
   "metadata": {},
   "cell_type": "code",
   "outputs": [],
   "execution_count": null,
   "source": "",
   "id": "eda2bfd49cb59640"
  }
 ],
 "metadata": {
  "kernelspec": {
   "display_name": "Python 3",
   "language": "python",
   "name": "python3"
  },
  "language_info": {
   "codemirror_mode": {
    "name": "ipython",
    "version": 2
   },
   "file_extension": ".py",
   "mimetype": "text/x-python",
   "name": "python",
   "nbconvert_exporter": "python",
   "pygments_lexer": "ipython2",
   "version": "2.7.6"
  }
 },
 "nbformat": 4,
 "nbformat_minor": 5
}
